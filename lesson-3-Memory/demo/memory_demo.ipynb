{
 "cells": [
  {
   "cell_type": "code",
   "id": "4706e7d6",
   "metadata": {
    "ExecuteTime": {
     "end_time": "2025-09-15T06:10:17.562997Z",
     "start_time": "2025-09-15T06:10:17.329193Z"
    }
   },
   "source": [
    "\n",
    "# Install langgraph and langchain if needed (uncomment when running locally)\n",
    "# !pip install langgraph>=0.2.0 langchain langchain-openai\n",
    "\n",
    "from typing import TypedDict, List, Optional, Literal, Dict, Any\n",
    "from langgraph.graph import StateGraph, START, END\n",
    "from langgraph.checkpoint.memory import InMemorySaver\n",
    "from datetime import datetime\n"
   ],
   "outputs": [],
   "execution_count": 1
  },
  {
   "cell_type": "code",
   "id": "6f31f186",
   "metadata": {
    "ExecuteTime": {
     "end_time": "2025-09-15T06:10:19.018992Z",
     "start_time": "2025-09-15T06:10:18.982927Z"
    }
   },
   "source": [
    "\n",
    "# Demo 1: Simple state without persistence\n",
    "class SimpleState(TypedDict):\n",
    "    messages: List[str]\n",
    "    user_name: str\n",
    "    counter: int\n",
    "\n",
    "def process_without_memory(state: SimpleState) -> SimpleState:\n",
    "    print(f\"Current counter: {state['counter']}\")\n",
    "    state['counter'] += 1\n",
    "    state['messages'].append(f\"Processed at count {state['counter']}\")\n",
    "    return state\n",
    "\n",
    "def demo_state_only():\n",
    "    print(\"=== Demo 1: State Only (No Memory) ===\\n\")\n",
    "    workflow = StateGraph(SimpleState)\n",
    "    workflow.add_node(\"process\", process_without_memory)\n",
    "    workflow.add_edge(START, \"process\")\n",
    "    workflow.add_edge(\"process\", END)\n",
    "    app = workflow.compile()\n",
    "    # First run\n",
    "    result1 = app.invoke({\"messages\": [], \"user_name\": \"Alice\", \"counter\": 0})\n",
    "    print(f\"First run counter: {result1['counter']}, messages: {result1['messages']}\\n\")\n",
    "    # Second run resets state\n",
    "    result2 = app.invoke({\"messages\": [], \"user_name\": \"Alice\", \"counter\": 0})\n",
    "    print(f\"Second run counter: {result2['counter']}, messages: {result2['messages']}\")\n",
    "\n",
    "# Run Demo 1\n",
    "demo_state_only()\n"
   ],
   "outputs": [
    {
     "name": "stdout",
     "output_type": "stream",
     "text": [
      "=== Demo 1: State Only (No Memory) ===\n",
      "\n",
      "Current counter: 0\n",
      "First run counter: 1, messages: ['Processed at count 1']\n",
      "\n",
      "Current counter: 0\n",
      "Second run counter: 1, messages: ['Processed at count 1']\n"
     ]
    }
   ],
   "execution_count": 2
  },
  {
   "cell_type": "code",
   "id": "94437f5f",
   "metadata": {
    "ExecuteTime": {
     "end_time": "2025-09-14T21:04:23.632420Z",
     "start_time": "2025-09-14T21:04:23.626907Z"
    }
   },
   "source": [
    "\n",
    "# Demo 2: Using a checkpointer for persistence\n",
    "\n",
    "def demo_with_checkpointer():\n",
    "    print(\"=== Demo 2: With Checkpointer (Memory) ===\\n\")\n",
    "    memory = InMemorySaver()\n",
    "    workflow = StateGraph(SimpleState)\n",
    "    workflow.add_node(\"process\", process_without_memory)\n",
    "    workflow.add_edge(START, \"process\")\n",
    "    workflow.add_edge(\"process\", END)\n",
    "    app = workflow.compile(checkpointer=memory)\n",
    "    config = {\"configurable\": {\"thread_id\": \"conversation_123\"}}\n",
    "    # First run\n",
    "    result1 = app.invoke({\"messages\": [], \"user_name\": \"Alice\", \"counter\": 0}, config=config)\n",
    "    print(f\"After first run: {result1['counter']}, messages: {result1['messages']}\\n\")\n",
    "    # Second run continues from saved state\n",
    "    saved_state = app.get_state(config).values\n",
    "    result2 = app.invoke(saved_state, config=config)\n",
    "    print(f\"After second run: {result2['counter']}, messages: {result2['messages']}\")\n",
    "\n",
    "# Run Demo 2\n",
    "demo_with_checkpointer()\n"
   ],
   "outputs": [
    {
     "name": "stdout",
     "output_type": "stream",
     "text": [
      "=== Demo 2: With Checkpointer (Memory) ===\n",
      "\n",
      "Current counter: 0\n",
      "After first run: 1, messages: ['Processed at count 1']\n",
      "\n",
      "Current counter: 1\n",
      "After second run: 2, messages: ['Processed at count 1', 'Processed at count 2']\n"
     ]
    }
   ],
   "execution_count": 3
  },
  {
   "cell_type": "code",
   "id": "9c3f65d7",
   "metadata": {
    "ExecuteTime": {
     "end_time": "2025-09-14T21:04:26.883749Z",
     "start_time": "2025-09-14T21:04:26.874913Z"
    }
   },
   "source": [
    "\n",
    "# Demo 3: Thread Isolation\n",
    "\n",
    "def demo_thread_isolation():\n",
    "    print(\"=== Demo 3: Thread Isolation ===\\n\")\n",
    "    memory = InMemorySaver()\n",
    "    # Define a new state that keeps track of how many times the user has visited support.\n",
    "    class SupportState(TypedDict):\n",
    "        messages: List[str]\n",
    "        user_name: str\n",
    "        visit: int\n",
    "\n",
    "    def handle_support(state: SupportState) -> SupportState:\n",
    "        # Increment the visit count stored in state and append a personalized message\n",
    "        state['visit'] += 1\n",
    "        state['messages'].append(f\"Support visit {state['visit']} for {state['user_name']}\")\n",
    "        return state\n",
    "\n",
    "    # Build the workflow graph using the SupportState type\n",
    "    workflow = StateGraph(SupportState)\n",
    "    workflow.add_node('support', handle_support)\n",
    "    workflow.add_edge(START, 'support')\n",
    "    workflow.add_edge('support', END)\n",
    "    app = workflow.compile(checkpointer=memory)\n",
    "\n",
    "    # Simulate the first visit for Alice in her own thread\n",
    "    config_user1 = {\"configurable\": {\"thread_id\": 'alice_support'}}\n",
    "    state_user1 = {\"messages\": [], \"user_name\": 'Alice', \"visit\": 0}\n",
    "    result1 = app.invoke(state_user1, config=config_user1)\n",
    "    print(\"User 'Alice' first visit:\", result1['messages'])\n",
    "\n",
    "    # Simulate the first visit for Bob in his own thread\n",
    "    config_user2 = {\"configurable\": {\"thread_id\": 'bob_support'}}\n",
    "    state_user2 = {\"messages\": [], \"user_name\": 'Bob', \"visit\": 0}\n",
    "    result2 = app.invoke(state_user2, config=config_user2)\n",
    "    print(\"User 'Bob' first visit:\", result2['messages'])\n",
    "\n",
    "    # Simulate a second visit for Alice; because we use the same thread_id,\n",
    "    # her previous state (visit count) is persisted\n",
    "    saved_alice_state = app.get_state(config_user1).values\n",
    "    result3 = app.invoke(saved_alice_state, config=config_user1)\n",
    "    print(\"User 'Alice' second visit:\", result3['messages'])\n",
    "\n",
    "    # Show that Bob's visit count remains isolated\n",
    "    saved_bob_state = app.get_state(config_user2).values\n",
    "    result4 = app.invoke(saved_bob_state, config=config_user2)\n",
    "    print(\"User 'Bob' second visit:\", result4['messages'])\n",
    "\n",
    "# Run Demo 3\n",
    "demo_thread_isolation()\n"
   ],
   "outputs": [
    {
     "name": "stdout",
     "output_type": "stream",
     "text": [
      "=== Demo 3: Thread Isolation ===\n",
      "\n",
      "User 'Alice' first visit: ['Support visit 1 for Alice']\n",
      "User 'Bob' first visit: ['Support visit 1 for Bob']\n",
      "User 'Alice' second visit: ['Support visit 1 for Alice', 'Support visit 2 for Alice']\n",
      "User 'Bob' second visit: ['Support visit 1 for Bob', 'Support visit 2 for Bob']\n"
     ]
    }
   ],
   "execution_count": 4
  },
  {
   "cell_type": "code",
   "id": "35b8f107",
   "metadata": {
    "ExecuteTime": {
     "end_time": "2025-09-14T21:06:09.263861Z",
     "start_time": "2025-09-14T21:06:09.249517Z"
    }
   },
   "source": "# Demo 4: Config vs State\nfrom langchain_core.runnables import RunnableConfig\n\nclass DetailedState(TypedDict):\n    messages: List[str]\n    current_issue: str\n    resolved: bool\n    timestamp: str\n\ndef process_with_config(state: DetailedState, config: RunnableConfig) -> DetailedState:\n    settings = config.get(\"configurable\", {})\n    if settings.get(\"priority\") == \"high\":\n        state[\"messages\"].append(\"HIGH PRIORITY!!!: Escalating immediately!\")\n    else:\n        state[\"messages\"].append(\"Standard processing...\")\n    if settings.get(\"language\") == \"es\":\n        state[\"messages\"].append(\"Hola! ¿Cómo puedo ayudarte?\")\n    else:\n        state[\"messages\"].append(\"Hello! How can I help you?\")\n    state[\"timestamp\"] = datetime.now().isoformat()\n    return state\n\ndef demo_config_vs_state():\n    print(\"=== Demo 4: Config vs State ===\\n\")\n    workflow = StateGraph(DetailedState)\n    workflow.add_node(\"process\", process_with_config)\n    workflow.add_edge(START, \"process\")\n    workflow.add_edge(\"process\", END)\n    app = workflow.compile(checkpointer=InMemorySaver())\n    initial_state = {\"messages\": [\"Customer needs help\"], \"current_issue\": \"Login problem\", \"resolved\": False, \"timestamp\": \"\"}\n    config1 = {\"configurable\": {\"thread_id\": \"test_1\", \"priority\": \"normal\", \"language\": \"en\"}}\n    result1 = app.invoke(initial_state.copy(), config=config1)\n    print(\"Normal/English config messages:\")\n    for msg in result1[\"messages\"][1:]:\n        print(\" -\", msg)\n    config2 = {\"configurable\": {\"thread_id\": \"test_2\", \"priority\": \"high\", \"language\": \"es\"}}\n    result2 = app.invoke(initial_state.copy(), config=config2)\n    print(\"High Priority/Spanish config messages:\")\n    for msg in result2[\"messages\"][1:]:\n        print(\" -\", msg)\n\n# Run Demo 4\ndemo_config_vs_state()",
   "outputs": [
    {
     "name": "stdout",
     "output_type": "stream",
     "text": [
      "=== Demo 4: Config vs State ===\n",
      "\n",
      "Normal/English config messages:\n",
      " - Standard processing...\n",
      " - Hello! How can I help you?\n",
      "High Priority/Spanish config messages:\n",
      " - Standard processing...\n",
      " - Hello! How can I help you?\n",
      " - HIGH PRIORITY!!!: Escalating immediately!\n",
      " - Hola! ¿Cómo puedo ayudarte?\n"
     ]
    }
   ],
   "execution_count": 6
  },
  {
   "cell_type": "code",
   "id": "d3318d9c",
   "metadata": {
    "ExecuteTime": {
     "end_time": "2025-09-14T20:47:53.309410Z",
     "start_time": "2025-09-14T20:47:53.296691Z"
    }
   },
   "source": [
    "# Demo 5: Time Travel using checkpoint history\n",
    "\n",
    "\n",
    "class ConversationState(TypedDict):\n",
    "    messages: List[str]\n",
    "    conversation_topic: str\n",
    "    mood: str\n",
    "\n",
    "def demo_time_travel():\n",
    "    print(\"=== Demo 5: Time Travel with Checkpoints ===\\n\")\n",
    "    memory = InMemorySaver()\n",
    "    \n",
    "    def conversation_node(state: ConversationState) -> ConversationState:\n",
    "        \"\"\"Simulates a conversation response based on topic and mood\"\"\"\n",
    "\n",
    "\n",
    "        topic = state[\"messages\"][-1].split(\" \")[-1]\n",
    "        mood = state[\"mood\"]\n",
    "        \n",
    "        if topic == \"weather\":\n",
    "            if mood == \"happy\":\n",
    "                response = \"What a beautiful sunny day! Perfect for a picnic!\"\n",
    "            else:\n",
    "                response = \"Looks like it might rain today. Better stay inside.\"\n",
    "        else:\n",
    "            response = f\"Let's talk about {topic}. I'm feeling {mood} today.\"\n",
    "            \n",
    "        state[\"messages\"].append(f\"AI: {response}\")\n",
    "        state[\"conversation_topic\"] = topic\n",
    "        return state\n",
    "    \n",
    "    # Build the workflow\n",
    "    workflow = StateGraph(ConversationState)\n",
    "    workflow.add_node(\"chat\", conversation_node)\n",
    "    workflow.add_edge(START, \"chat\")\n",
    "    workflow.add_edge(\"chat\", END)\n",
    "    app = workflow.compile(checkpointer=memory)\n",
    "    \n",
    "    # Initial conversation\n",
    "    config = {\"configurable\": {\"thread_id\": \"time_travel_conversation\"}}\n",
    "    initial_state = {\n",
    "        \"messages\": [\"Human: Let's talk about the weather\"],\n",
    "        \"mood\": \"happy\"\n",
    "    }\n",
    "    \n",
    "    print(\"=== Original Timeline ===\")\n",
    "    result1 = app.invoke(initial_state, config=config)\n",
    "    print(f\"Topic: {result1['conversation_topic']}, Mood: {result1['mood']}\")\n",
    "    print(f\"Response: {result1['messages'][-1]}\")\n",
    "    \n",
    "\n",
    "    print(f\"\\nFull conversation: {result1['messages']}\")\n",
    "    \n",
    "    # Time travel: Go back to the first checkpoint and change the mood\n",
    "    print(\"\\n=== Time Travel: Going Back and Changing Mood ===\")\n",
    "    history = list(app.get_state_history(config))\n",
    "\n",
    "\n",
    "    # The states are returned in reverse chronological order.\n",
    "    for state in history:\n",
    "        print(state.next)\n",
    "        print(state.config[\"configurable\"][\"checkpoint_id\"])\n",
    "        print()\n",
    "\n",
    "    \n",
    "    if len(history) >= 2:\n",
    "        # Get the first checkpoint (after initial response)\n",
    "        first_checkpoint = history[1]  # Second most recent (first response)\n",
    "        print(f\"Going back to checkpoint: {first_checkpoint.config['configurable']['checkpoint_id']}\")\n",
    "        \n",
    "        # Update the state at that checkpoint - change mood from happy to sad\n",
    "        new_config = app.update_state(\n",
    "            first_checkpoint.config,\n",
    "            {\"mood\": \"sad\"},  # This will change how the AI responds\n",
    "        )\n",
    "\n",
    "        alt_result = app.invoke(None, config=new_config)\n",
    "        \n",
    "        print(f\"Modified Timeline - Topic: {alt_result['conversation_topic']}, Mood: {alt_result['mood']}\")\n",
    "        print(f\"New Response: {alt_result['messages'][-1]}\")\n",
    "        print(f\"\\nAlternate conversation: {alt_result['messages']}\")\n",
    "\n",
    "\n",
    "# Run Demo 5\n",
    "demo_time_travel()"
   ],
   "outputs": [
    {
     "name": "stdout",
     "output_type": "stream",
     "text": [
      "=== Demo 5: Time Travel with Checkpoints ===\n",
      "\n",
      "=== Original Timeline ===\n",
      "Topic: weather, Mood: happy\n",
      "Response: AI: What a beautiful sunny day! Perfect for a picnic!\n",
      "\n",
      "Full conversation: [\"Human: Let's talk about the weather\", 'AI: What a beautiful sunny day! Perfect for a picnic!']\n",
      "\n",
      "=== Time Travel: Going Back and Changing Mood ===\n",
      "()\n",
      "1f091ac1-5b4d-6292-8001-771aeccbd29d\n",
      "\n",
      "('chat',)\n",
      "1f091ac1-5b4c-6068-8000-dfbe9d890c97\n",
      "\n",
      "('__start__',)\n",
      "1f091ac1-5b4a-6844-bfff-f38fcac2cf36\n",
      "\n",
      "Going back to checkpoint: 1f091ac1-5b4c-6068-8000-dfbe9d890c97\n",
      "Modified Timeline - Topic: weather, Mood: sad\n",
      "New Response: AI: Looks like it might rain today. Better stay inside.\n",
      "\n",
      "Alternate conversation: [\"Human: Let's talk about the weather\", 'AI: Looks like it might rain today. Better stay inside.']\n"
     ]
    }
   ],
   "execution_count": 8
  },
  {
   "cell_type": "code",
   "id": "a29a14b3",
   "metadata": {
    "ExecuteTime": {
     "end_time": "2025-09-14T20:47:58.128027Z",
     "start_time": "2025-09-14T20:47:58.119839Z"
    }
   },
   "source": [
    "\n",
    "# Demo 6: Practical memory features\n",
    "from typing import Dict as DictType, Any as AnyType\n",
    "class MemoryState(TypedDict):\n",
    "    messages: List[str]\n",
    "    user_id: str\n",
    "    user_memory: DictType[str, AnyType]\n",
    "\n",
    "def remember_user_preferences(state: MemoryState) -> MemoryState:\n",
    "\n",
    "    new_preference = state[\"messages\"][-1].split(\" \")[-1]\n",
    "\n",
    "    preferences = state[\"user_memory\"].get(\"food_preferences\", [])\n",
    "    preferences.append(new_preference)\n",
    "    state[\"user_memory\"][\"food_preferences\"] = preferences\n",
    "    return state\n",
    "\n",
    "\n",
    "def suggest_a_dessert(state: MemoryState) -> MemoryState:\n",
    "    preferences = state[\"user_memory\"].get(\"food_preferences\", [])\n",
    "\n",
    "    if \"chocolate\" in preferences:\n",
    "        if \"cookies\" in preferences:\n",
    "            state[\"messages\"].append(\"How about a chocolate cookies for dessert?\")\n",
    "            return state\n",
    "        elif \"cake\" in preferences:\n",
    "            state[\"messages\"].append(\"How about a chocolate cake for dessert?\")\n",
    "            return state\n",
    "\n",
    "\n",
    "    state[\"messages\"].append(\"Can you tell me more about your food preferences?\")\n",
    "    return state\n",
    "\n",
    "def demo_practical_memory():\n",
    "    print(\"=== Demo 6: Practical Memory Features ===\\n\")\n",
    "    workflow = StateGraph(MemoryState)\n",
    "    workflow.add_node(\"remember\", remember_user_preferences)\n",
    "    workflow.add_node(\"suggest\", suggest_a_dessert)\n",
    "    workflow.add_edge(START, \"remember\")\n",
    "    workflow.add_edge(\"remember\", \"suggest\")\n",
    "    workflow.add_edge(\"suggest\", END)\n",
    "    app = workflow.compile(checkpointer=InMemorySaver())\n",
    "    config = {\"configurable\": {\"thread_id\": \"user_123_memory\"}}\n",
    "    # First interaction\n",
    "    state1 = {\n",
    "        \"messages\": [\"I like chocolate\"],\n",
    "        \"user_id\": \"user_123\",\n",
    "        \"user_memory\": {},\n",
    "    }\n",
    "    result1 = app.invoke(state1, config=config)\n",
    "    print(\"Memory after visit 1:\", result1['user_memory'], \"\\n\")\n",
    "    print(\"Response after visit 1:\", result1['messages'][-1], \"\\n\")\n",
    "\n",
    "    # Second interaction\n",
    "    saved = app.get_state(config).values\n",
    "    saved[\"messages\"].append(\"I also enjoy cookies\")\n",
    "    result2 = app.invoke(saved, config=config)\n",
    "\n",
    "    print(\"Memory after visit 2:\", result2['user_memory'], \"\\n\")\n",
    "    print(\"Response after visit 2:\", result2['messages'][-1], \"\\n\")\n",
    "\n",
    "\n",
    "# Run Demo 6\n",
    "demo_practical_memory()\n"
   ],
   "outputs": [
    {
     "name": "stdout",
     "output_type": "stream",
     "text": [
      "=== Demo 6: Practical Memory Features ===\n",
      "\n",
      "Memory after visit 1: {'food_preferences': ['chocolate']} \n",
      "\n",
      "Response after visit 1: Can you tell me more about your food preferences? \n",
      "\n",
      "Memory after visit 2: {'food_preferences': ['chocolate', 'cookies']} \n",
      "\n",
      "Response after visit 2: How about a chocolate cookies for dessert? \n",
      "\n"
     ]
    }
   ],
   "execution_count": 9
  }
 ],
 "metadata": {
  "kernelspec": {
   "name": "python3",
   "language": "python",
   "display_name": "Python 3 (ipykernel)"
  }
 },
 "nbformat": 4,
 "nbformat_minor": 5
}
