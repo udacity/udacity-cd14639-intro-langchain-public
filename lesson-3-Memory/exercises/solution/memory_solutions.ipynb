{
 "cells": [
  {
   "cell_type": "markdown",
   "id": "header",
   "metadata": {},
   "source": [
    "# Memory Exercises - Solutions\n",
    "\n",
    "## Memory in LangGraph - Quick Checks"
   ]
  },
  {
   "cell_type": "markdown",
   "id": "solutions-questions",
   "metadata": {},
   "source": [
    "### Solutions to Quick Check Questions\n",
    "\n",
    "1. **Understanding Persistence**\n",
    "   - A checkpointer like `InMemorySaver` stores checkpoints of the workflow state. Without a checkpointer, each invocation starts from scratch; with it, the state is saved and can be resumed across runs.\n",
    "\n",
    "2. **State vs. Config**\n",
    "   - The **state** contains the data that flows through the nodes (e.g., messages, counters, user memory). The **config** provides runtime parameters that influence how the workflow runs (e.g., thread IDs, language settings) without altering the state.\n",
    "\n",
    "3. **Thread Isolation**\n",
    "   - Each thread is identified by a unique `thread_id` in the config. LangGraph uses this identifier to keep the state of each conversation separate, ensuring that data doesn't leak between users."
   ]
  },
  {
   "cell_type": "markdown",
   "id": "coding-solution-header",
   "metadata": {},
   "source": [
    "## Coding Exercise: Implementing Persistent Memory - Solution\n",
    "\n",
    "Below is one way to implement the memory features. Solutions may differ.\n",
    "\n",
    "This solution uses `InMemorySaver` to persist the user's preferences between invocations, track visits, and personalize the assistant's replies."
   ]
  },
  {
   "cell_type": "code",
   "id": "complete-solution",
   "metadata": {
    "ExecuteTime": {
     "end_time": "2025-09-15T06:42:30.201809Z",
     "start_time": "2025-09-15T06:42:29.912450Z"
    }
   },
   "source": [
    "from typing import TypedDict, Dict, Any, List\n",
    "from langgraph.graph import StateGraph, START, END\n",
    "from langgraph.checkpoint.memory import InMemorySaver\n",
    "\n",
    "class MemoryState(TypedDict):\n",
    "    messages: List[str]\n",
    "    user_id: str\n",
    "    user_memory: Dict[str, Any]  # long-term memory for preferences and counts\n",
    "\n",
    "# Node that updates user memory and personalizes responses\n",
    "def remember_preferences(state: MemoryState) -> MemoryState:\n",
    "    # Get the last message in lowercase for preference detection\n",
    "    last_msg = state[\"messages\"][-1].lower() if state[\"messages\"] else \"\"\n",
    "\n",
    "    # Initialize diet list\n",
    "    diet = state[\"user_memory\"].get(\"diet\", [])\n",
    "\n",
    "    # Detect dietary preferences and store them\n",
    "    if \"vegan\" in last_msg and \"vegan\" not in diet:\n",
    "        diet.append(\"vegan\")\n",
    "    if \"vegetarian\" in last_msg and \"vegetarian\" not in diet:\n",
    "        diet.append(\"vegetarian\")\n",
    "    if \"gluten-free\" in last_msg or \"gluten free\" in last_msg:\n",
    "        if \"gluten-free\" not in diet:\n",
    "            diet.append(\"gluten-free\")\n",
    "\n",
    "    # Update the diet in user memory\n",
    "    if diet:\n",
    "        state[\"user_memory\"][\"diet\"] = diet\n",
    "\n",
    "    # Track visits\n",
    "    count = state[\"user_memory\"].get(\"visits\", 0) + 1\n",
    "\n",
    "     # Add a welcome-back message on return visits\n",
    "    if count > 1:\n",
    "        state[\"messages\"].append(f\"Welcome back! This is visit #{count}\")\n",
    "\n",
    "\n",
    "    state[\"user_memory\"][\"visits\"] = count\n",
    "\n",
    "    # Personalize response based on preferences\n",
    "    if diet:\n",
    "        # Suggest a dish based on the first preference listed\n",
    "        if \"vegan\" in diet:\n",
    "            state[\"messages\"].append(\"May I recommend our vegan Buddha bowl?\")\n",
    "        elif \"vegetarian\" in diet:\n",
    "            state[\"messages\"].append(\"How about a fresh vegetarian salad?\")\n",
    "        elif \"gluten-free\" in diet:\n",
    "            state[\"messages\"].append(\"Try our gluten-free pasta.\")\n",
    "\n",
    "\n",
    "\n",
    "    return state\n",
    "\n",
    "# Build the workflow\n",
    "workflow = StateGraph(MemoryState)\n",
    "workflow.add_node(\"remember\", remember_preferences)\n",
    "workflow.add_edge(START, \"remember\")\n",
    "workflow.add_edge(\"remember\", END)\n",
    "\n",
    "# Compile with an in-memory checkpointer to enable persistence across runs\n",
    "app = workflow.compile(checkpointer=InMemorySaver())\n"
   ],
   "outputs": [],
   "execution_count": 1
  },
  {
   "cell_type": "markdown",
   "id": "test-header",
   "metadata": {},
   "source": [
    "### Testing the Implementation"
   ]
  },
  {
   "cell_type": "code",
   "id": "test-implementation",
   "metadata": {
    "ExecuteTime": {
     "end_time": "2025-09-15T06:42:38.369417Z",
     "start_time": "2025-09-15T06:42:38.358948Z"
    }
   },
   "source": [
    "# config with a unique thread_id\n",
    "config = {\"configurable\": {\"thread_id\": \"user123\"}}\n",
    "\n",
    "# First interaction: user states a dietary preference\n",
    "state1 = {\n",
    "    \"messages\": [\"I'm vegan and looking for options\"],\n",
    "    \"user_id\": \"user123\",\n",
    "    \"user_memory\": {}\n",
    "}\n",
    "\n",
    "result1 = app.invoke(state1, config=config)\n",
    "print(\"First interaction - User Memory:\", result1[\"user_memory\"])\n",
    "# Expected: {'diet': ['vegan'], 'visits': 1}\n",
    "\n",
    "print(\"First interaction - Messages:\", result1[\"messages\"])\n",
    "# Expected to include a vegan dish suggestion\n"
   ],
   "outputs": [
    {
     "name": "stdout",
     "output_type": "stream",
     "text": [
      "First interaction - User Memory: {'diet': ['vegan'], 'visits': 1}\n",
      "First interaction - Messages: [\"I'm vegan and looking for options\", 'May I recommend our vegan Buddha bowl?']\n"
     ]
    }
   ],
   "execution_count": 2
  },
  {
   "cell_type": "code",
   "id": "second-interaction",
   "metadata": {
    "ExecuteTime": {
     "end_time": "2025-09-15T06:42:49.816930Z",
     "start_time": "2025-09-15T06:42:49.810176Z"
    }
   },
   "source": [
    "# Second interaction resumes from saved state\n",
    "saved_state = app.get_state(config).values\n",
    "\n",
    "# User adds another preference\n",
    "saved_state[\"messages\"].append(\"I'm also gluten-free\")\n",
    "result2 = app.invoke(saved_state, config=config)\n",
    "\n",
    "# Show the latest messages and memory\n",
    "print(\"Second interaction - Messages (last 2):\", result2[\"messages\"][-2:])\n",
    "# Expected: a gluten-free suggestion and a welcome-back message\n",
    "\n",
    "print(\"Second interaction - User Memory:\", result2[\"user_memory\"])\n",
    "# Expected: {'diet': ['vegan', 'gluten-free'], 'visits': 2}\n"
   ],
   "outputs": [
    {
     "name": "stdout",
     "output_type": "stream",
     "text": [
      "Second interaction - Messages (last 2): ['Welcome back! This is visit #2', 'May I recommend our vegan Buddha bowl?']\n",
      "Second interaction - User Memory: {'diet': ['vegan', 'gluten-free'], 'visits': 2}\n"
     ]
    }
   ],
   "execution_count": 3
  },
  {
   "metadata": {},
   "cell_type": "markdown",
   "source": [
    "#### Key Concepts Demonstrated:\n",
    "\n",
    "1. **Memory Persistence**: The `InMemorySaver` checkpointer ensures that state is preserved between invocations\n",
    "\n",
    "2. **Thread Isolation**: Each `thread_id` maintains its own separate state, allowing multiple users to interact without interference\n",
    "\n",
    "3. **State Evolution**: The `user_memory` dictionary accumulates information over time, enabling personalized interactions\n"
   ],
   "id": "additional-features"
  }
 ],
 "metadata": {
  "kernelspec": {
   "display_name": "Python 3",
   "language": "python",
   "name": "python3"
  },
  "language_info": {
   "codemirror_mode": {
    "name": "ipython",
    "version": 3
   },
   "file_extension": ".py",
   "mimetype": "text/x-python",
   "name": "python",
   "nbconvert_exporter": "python",
   "pygments_lexer": "ipython3",
   "version": "3.9.0"
  }
 },
 "nbformat": 4,
 "nbformat_minor": 5
}
