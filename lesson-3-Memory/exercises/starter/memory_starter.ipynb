{
 "cells": [
  {
   "cell_type": "markdown",
   "id": "header",
   "metadata": {},
   "source": [
    "# Memory Exercises\n",
    "\n",
    "## Memory in LangGraph - Quick Checks\n",
    "\n",
    "These short questions are designed to check your understanding of the memory concepts demonstrated."
   ]
  },
  {
   "cell_type": "markdown",
   "id": "questions",
   "metadata": {},
   "source": [
    "### Quick Check Questions\n",
    "\n",
    "1. **Understanding Persistence**\n",
    "   - What role does a checkpointer (e.g., `InMemorySaver`) play in a LangGraph workflow? Why is it necessary for persisting state across runs?\n",
    "\n",
    "2. **Thread Isolation**\n",
    "   - If two users interact with the same workflow at the same time, how does the system ensure that their conversations remain separate?\n",
    "\n",
    "*Try to answer each question in one or two sentences.*"
   ]
  },
  {
   "cell_type": "markdown",
   "id": "coding-exercise-header",
   "metadata": {},
   "source": [
    "## Coding Exercise: Implementing Persistent Memory\n",
    "\n",
    "This hands-on exercise lets you apply what you've learned. You'll extend the LangGraph application below to incorporate memory and personalize responses.\n",
    "\n",
    "**Scenario:** You are building a simple dining assistant that remembers each user's dietary preferences and personalizes its responses.\n",
    ".\n",
    "\n",
    "### Tasks to Complete\n",
    "\n",
    "Modify the application below by implementing the following:\n",
    "\n",
    "1. **Add Memory Persistence**\n",
    "   - Import `InMemorySaver` from `langgraph.checkpoint.memory`\n",
    "   - Modify the workflow to compile with this checkpointer\n",
    "\n",
    "2. **Track User Preferences**\n",
    "    - Use `InMemorySaver` for state persistence so that the assistant remembers preferences across separate invocations.\n",
    "    - Pass a unique thread ID in the `config` to ensure conversation isolation for each user.\n",
    "    - Extend the application state with a `user_memory` dictionary to store dietary preferences (e.g. vegetarian, vegan, gluten-free) and a visit counter.\n",
    "    - Implement the `remember_preferences` function that detects preferences from incoming messages, updates the stored preferences and visit count, and appends personalized suggestions and welcome-back messages.\n",
    "    - Connect the `remember_preferences` node to the appropriate edges in the workflow.\n",
    "    - Compile the workflow with a checkpointer and test it by invoking it multiple times with the same thread ID to verify persistence.\n",
    "\n",
    "3. **Test Persistence**\n",
    "   - Invoke the workflow twice using the same `thread_id`\n",
    "   - Observe how the second invocation uses the stored preference\n"
   ]
  },
  {
   "cell_type": "markdown",
   "id": "starter-code-header",
   "metadata": {},
   "source": [
    "### Starter Code\n",
    "\n",
    "Complete the code below to implement the memory persistence features:"
   ]
  },
  {
   "cell_type": "code",
   "id": "starter-code",
   "metadata": {},
   "source": [
    "from typing import TypedDict, List, Dict, Any\n",
    "from langgraph.graph import StateGraph, START, END\n",
    "\n",
    "class MemoryState(TypedDict):\n",
    "    messages: List[str]\n",
    "    user_id: str\n",
    "\n",
    "def remember_preferences(state: MemoryState) -> MemoryState:\n",
    "\n",
    "    return state\n",
    "\n",
    "# Build a minimal workflow without persistence\n",
    "workflow = StateGraph(MemoryState)\n",
    "workflow.add_node(\"____\", greet_user)\n",
    "\n",
    "\n",
    "app = workflow.compile()\n",
    "\n",
    "# TODO: Implement the following:\n",
    "# 1. Import InMemorySaver from langgraph.checkpoint.memory and compile the workflow with it.\n",
    "# 2. Expand MemoryState to include a user_memory dictionary to store dietary preferences and visit counts.\n",
    "# 3. Write a node function remember_preferences(state: MemoryState) -> MemoryState that:\n",
    "#    - Detects dietary preferences (vegan, vegetarian, gluten-free) from the latest user message\n",
    "#    - Stores them in state[\"user_memory\"][\"diet\"] (a list)\n",
    "#    - Increments a visit counter in state[\"user_memory\"][\"visits\"]\n",
    "#    - Appends a personalized dish suggestion and a welcome-back message on return visits\n",
    "# 4. Add this new node to the workflow after the greet node and update the edges accordingly.\n",
    "# 5. Compile the workflow with an InMemorySaver to enable persistence.\n",
    "# 6. Test your implementation by invoking the workflow multiple times with the same thread_id and observing the persisted state.\n"
   ],
   "outputs": [],
   "execution_count": null
  },
  {
   "cell_type": "markdown",
   "id": "test-section",
   "metadata": {},
   "source": [
    "### Test Your Implementation\n",
    "\n",
    "Use the cell below to test your implementation:"
   ]
  },
  {
   "cell_type": "code",
   "id": "test-code",
   "metadata": {},
   "source": [
    "# config with a unique thread_id\n",
    "config = {\"configurable\": {\"thread_id\": \"user123\"}}\n",
    "\n",
    "# First interaction: user states a dietary preference\n",
    "state1 = {\n",
    "    \"messages\": [\"I'm vegan and looking for options\"],\n",
    "    \"user_id\": \"user123\",\n",
    "    \"user_memory\": {}\n",
    "}\n",
    "\n",
    "result1 = app.invoke(state1, config=config)\n",
    "print(\"First interaction - User Memory:\", result1[\"user_memory\"])\n",
    "# Expected: {'diet': ['vegan'], 'visits': 1}\n",
    "\n",
    "print(\"First interaction - Messages:\", result1[\"messages\"])\n",
    "# Expected to include a vegan dish suggestion\n",
    "\n",
    "# Second interaction resumes from saved state\n",
    "saved_state = app.get_state(config).values\n",
    "\n",
    "# User adds another preference\n",
    "saved_state[\"messages\"].append(\"I'm also gluten-free\")\n",
    "result2 = app.invoke(saved_state, config=config)\n",
    "\n",
    "# Show the latest messages and memory\n",
    "print(\"Second interaction - Messages (last 2):\", result2[\"messages\"][-2:])\n",
    "# Expected: a gluten-free suggestion and a welcome-back message\n",
    "\n",
    "print(\"Second interaction - User Memory:\", result2[\"user_memory\"])\n",
    "# Expected: {'diet': ['vegan', 'gluten-free'], 'visits': 2}"
   ],
   "outputs": [],
   "execution_count": null
  },
  {
   "cell_type": "markdown",
   "id": "reflection",
   "metadata": {},
   "source": [
    "### Reflection\n",
    "\n",
    "After completing the practical exercise, jot down a few sentences about what you found challenging and how you resolved it. Reflect on how memory persistence and thread isolation could be useful in real-world conversational systems.\n",
    "\n"
   ]
  }
 ],
 "metadata": {
  "kernelspec": {
   "display_name": "Python 3",
   "language": "python",
   "name": "python3"
  },
  "language_info": {
   "codemirror_mode": {
    "name": "ipython",
    "version": 3
   },
   "file_extension": ".py",
   "mimetype": "text/x-python",
   "name": "python",
   "nbconvert_exporter": "python",
   "pygments_lexer": "ipython3",
   "version": "3.9.0"
  }
 },
 "nbformat": 4,
 "nbformat_minor": 5
}
