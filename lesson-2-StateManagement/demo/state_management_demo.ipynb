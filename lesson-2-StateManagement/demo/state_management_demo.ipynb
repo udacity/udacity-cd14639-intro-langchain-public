{
 "cells": [
  {
   "cell_type": "code",
   "id": "012f1fa4",
   "metadata": {
    "ExecuteTime": {
     "end_time": "2025-09-08T07:35:45.107367Z",
     "start_time": "2025-09-08T07:35:44.865971Z"
    }
   },
   "source": [
    "\n",
    "# Install langgraph and langchain if needed (uncomment when running locally)\n",
    "# !pip install langgraph>=0.2.0 langchain langchain-openai\n",
    "\n",
    "from typing import TypedDict, List, Optional, Literal, Annotated\n",
    "\n",
    "from langgraph.graph import StateGraph, START, END\n",
    "from langgraph.graph.message import add_messages\n",
    "from langgraph.checkpoint.memory import InMemorySaver\n",
    "import operator\n",
    "import uuid\n"
   ],
   "outputs": [],
   "execution_count": 3
  },
  {
   "cell_type": "code",
   "id": "93f67879",
   "metadata": {
    "ExecuteTime": {
     "end_time": "2025-09-08T07:35:46.653032Z",
     "start_time": "2025-09-08T07:35:46.650746Z"
    }
   },
   "source": [
    "\n",
    "# Define the state using State object and reducers\n",
    "class CustomerServiceState(TypedDict):\n",
    "    messages: Annotated[list, add_messages]\n",
    "    department: Optional[Literal[\"billing\", \"technical\", \"sales\"]]\n",
    "    user_id: str\n",
    "    issue_id: Optional[str]\n",
    "    user_name: Optional[str]\n",
    "    issue_history: Annotated[List[str], operator.add]\n",
    "    resolved: bool\n"
   ],
   "outputs": [],
   "execution_count": 4
  },
  {
   "cell_type": "code",
   "id": "bf544a33",
   "metadata": {
    "ExecuteTime": {
     "end_time": "2025-09-08T07:35:48.807240Z",
     "start_time": "2025-09-08T07:35:48.801631Z"
    }
   },
   "source": [
    "# Define routing and department handlers\n",
    "from langchain_core.messages import HumanMessage, AIMessage\n",
    "\n",
    "# Router function determines department based on keywords and adds initial tasks\n",
    "\n",
    "def route_customer(state: CustomerServiceState) -> CustomerServiceState:\n",
    "    department = None\n",
    "    ai_message = None\n",
    "\n",
    "    if not state[\"messages\"]:\n",
    "        return state\n",
    "    last_message = state[\"messages\"][-1].content.lower()\n",
    "    if any(word in last_message for word in [\"bill\", \"payment\", \"charge\"]):\n",
    "        department = \"billing\"\n",
    "        ai_message = AIMessage(content=\"I'll help you with your billing issue. Let me check your account.\")\n",
    "    elif any(word in last_message for word in [\"broken\", \"error\", \"not working\"]):\n",
    "        department = \"technical\"\n",
    "        ai_message = AIMessage(content=\"Let's troubleshoot your technical issue.\")\n",
    "    elif any(word in last_message for word in [\"buy\", \"purchase\", \"upgrade\"]):\n",
    "        department = \"sales\"\n",
    "        ai_message = AIMessage(content=\"I'd be happy to help with your purchase.\")\n",
    "    return {\"messages\": [ai_message], \"department\": department, \"issue_id\": str(uuid.uuid4()), \"resolved\": False}\n",
    "\n",
    "# Department handlers process and resolve issues\n",
    "\n",
    "def handle_billing(state: CustomerServiceState) -> CustomerServiceState:\n",
    "    new_issues_id = \"billing-\" + state[\"issue_id\"]\n",
    "    return {\"messages\": [AIMessage(content=\"Retrieved billing history: Last payment $99\")], \"resolved\": True, \"issue_history\": [new_issues_id]}\n",
    "\n",
    "def handle_technical(state: CustomerServiceState) -> CustomerServiceState:\n",
    "    new_issues_id = \"technical-\" + state[\"issue_id\"]\n",
    "    return {\"messages\": [AIMessage(content=\"Diagnostics complete. No hardware issues detected.\")], \"resolved\": True, \"issue_history\": [new_issues_id]}\n",
    "\n",
    "def handle_sales(state: CustomerServiceState) -> CustomerServiceState:\n",
    "    new_issues_id = \"sales-\" + state[\"issue_id\"]\n",
    "    return {\"messages\": [AIMessage(content=\"Products available: Premium Upgrade, Family Plan.\")], \"resolved\": True, \"issue_history\": [new_issues_id]}"
   ],
   "outputs": [],
   "execution_count": 5
  },
  {
   "cell_type": "code",
   "id": "c50a4125",
   "metadata": {
    "ExecuteTime": {
     "end_time": "2025-09-08T07:35:52.150141Z",
     "start_time": "2025-09-08T07:35:52.144956Z"
    }
   },
   "source": [
    "\n",
    "# Build the workflow\n",
    "workflow = StateGraph(CustomerServiceState)\n",
    "workflow.add_node(\"router\", route_customer)\n",
    "\n",
    "\n",
    "def next_step(state: CustomerServiceState):\n",
    "    if state[\"resolved\"]:\n",
    "        return END\n",
    "    return state[\"department\"] or \"router\"\n",
    "\n",
    "workflow.add_node(\"billing\", handle_billing)\n",
    "workflow.add_node(\"technical\", handle_technical)\n",
    "workflow.add_node(\"sales\", handle_sales)\n",
    "\n",
    "\n",
    "workflow.set_entry_point(\"router\")\n",
    "workflow.add_conditional_edges(\"router\", next_step)\n",
    "workflow.add_edge(\"billing\", END)\n",
    "workflow.add_edge(\"technical\", END)\n",
    "workflow.add_edge(\"sales\", END)\n",
    "memory = InMemorySaver()\n",
    "\n",
    "app = workflow.compile(checkpointer=memory)\n"
   ],
   "outputs": [],
   "execution_count": 6
  },
  {
   "cell_type": "code",
   "id": "c09e911c",
   "metadata": {
    "ExecuteTime": {
     "end_time": "2025-09-08T07:35:54.600285Z",
     "start_time": "2025-09-08T07:35:54.574044Z"
    }
   },
   "source": [
    "# Test the system with different queries\n",
    "\n",
    "print(\"=== Demonstrating operator.add reducer\\n\")\n",
    "\n",
    "# Billing query\n",
    "state1 = CustomerServiceState(\n",
    "    messages=[HumanMessage(content=\"My bill seems too high this month\")],\n",
    "    department=None,\n",
    "    user_id=\"user123\",\n",
    "    user_name=\"John Doe\",\n",
    "    issue_history=[],\n",
    "    resolved=False\n",
    ")\n",
    "\n",
    "config = {\"configurable\": {\"thread_id\": \"user123\"}}\n",
    "\n",
    "result1 = app.invoke(state1, config=config)\n",
    "print(\"Billing query result:\")\n",
    "print(\"Department:\", result1['department'])\n",
    "print(\"Final response:\", result1['messages'][-1].content)\n",
    "print(\"Customer issue history:\", result1['issue_history'])\n",
    "print()\n",
    "\n",
    "\n",
    "result2 = app.invoke({\"messages\": [HumanMessage(content=\"My internet is not working properly\")]}, config=config)\n",
    "print(\"Technical query result:\")\n",
    "print(\"Department:\", result2['department'])\n",
    "print(\"Final response:\", result2['messages'][-1].content)\n",
    "print(\"Customer issue history:\", result2['issue_history'])\n",
    "\n"
   ],
   "outputs": [
    {
     "name": "stdout",
     "output_type": "stream",
     "text": [
      "=== Demonstrating operator.add reducer\n",
      "\n",
      "Billing query result:\n",
      "Department: billing\n",
      "Final response: Retrieved billing history: Last payment $99\n",
      "Customer issue history: ['billing-81bf5853-91dc-401b-9eec-839252a0cd54']\n",
      "\n",
      "Technical query result:\n",
      "Department: technical\n",
      "Final response: Diagnostics complete. No hardware issues detected.\n",
      "Customer issue history: ['billing-81bf5853-91dc-401b-9eec-839252a0cd54', 'technical-b0f374f6-0d11-4397-9ba8-8870c3e8e98f']\n"
     ]
    }
   ],
   "execution_count": 7
  }
 ],
 "metadata": {
  "kernelspec": {
   "name": "python3",
   "language": "python",
   "display_name": "Python 3 (ipykernel)"
  }
 },
 "nbformat": 4,
 "nbformat_minor": 5
}
